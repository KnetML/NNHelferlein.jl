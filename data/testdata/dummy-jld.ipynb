{
 "cells": [
  {
   "cell_type": "code",
   "execution_count": 70,
   "metadata": {},
   "outputs": [
    {
     "name": "stderr",
     "output_type": "stream",
     "text": [
      "\u001b[32m\u001b[1m   Resolving\u001b[22m\u001b[39m package versions...\n",
      "\u001b[32m\u001b[1m  No Changes\u001b[22m\u001b[39m to `~/.julia/environments/v1.7/Project.toml`\n",
      "\u001b[32m\u001b[1m  No Changes\u001b[22m\u001b[39m to `~/.julia/environments/v1.7/Manifest.toml`\n",
      "\u001b[32m\u001b[1mPrecompiling\u001b[22m\u001b[39m project...\n",
      "\u001b[33m  ✓ \u001b[39mNNHelferlein\n",
      "  1 dependency successfully precompiled in 66 seconds (321 already precompiled, 1 skipped during auto due to previous errors)\n",
      "  \u001b[33m1\u001b[39m dependency precompiled but a different version is currently loaded. Restart julia to access the new version\n",
      "\u001b[32m\u001b[1m   Resolving\u001b[22m\u001b[39m package versions...\n",
      "\u001b[32m\u001b[1m  No Changes\u001b[22m\u001b[39m to `~/.julia/environments/v1.7/Project.toml`\n",
      "\u001b[32m\u001b[1m  No Changes\u001b[22m\u001b[39m to `~/.julia/environments/v1.7/Manifest.toml`\n",
      "\u001b[32m\u001b[1mPrecompiling\u001b[22m\u001b[39m project...\n",
      "\u001b[33m  ✓ \u001b[39mNNHelferlein\n",
      "  1 dependency successfully precompiled in 67 seconds (321 already precompiled, 1 skipped during auto due to previous errors)\n",
      "  \u001b[33m1\u001b[39m dependency precompiled but a different version is currently loaded. Restart julia to access the new version\n",
      "\u001b[32m\u001b[1m   Resolving\u001b[22m\u001b[39m package versions...\n",
      "\u001b[32m\u001b[1m  No Changes\u001b[22m\u001b[39m to `~/.julia/environments/v1.7/Project.toml`\n",
      "\u001b[32m\u001b[1m  No Changes\u001b[22m\u001b[39m to `~/.julia/environments/v1.7/Manifest.toml`\n",
      "\u001b[32m\u001b[1mPrecompiling\u001b[22m\u001b[39m project...\n",
      "\u001b[33m  ✓ \u001b[39mNNHelferlein\n",
      "  1 dependency successfully precompiled in 69 seconds (321 already precompiled, 1 skipped during auto due to previous errors)\n",
      "  \u001b[33m1\u001b[39m dependency precompiled but a different version is currently loaded. Restart julia to access the new version\n"
     ]
    },
    {
     "data": {
      "text/plain": [
       "Random.TaskLocalRNG()"
      ]
     },
     "execution_count": 70,
     "metadata": {},
     "output_type": "execute_result"
    }
   ],
   "source": [
    "using Pkg\n",
    "\n",
    "Pkg.add(\"JLD2\")\n",
    "Pkg.add(\"FileIO\")\n",
    "Pkg.add(\"Revise\")\n",
    "\n",
    "import Random\n",
    "using Revise\n",
    "using NNHelferlein\n",
    "using DataFrames\n",
    "using JLD2\n",
    "using Knet\n",
    "using FileIO\n",
    "Random.seed!(1)\n",
    "##\n",
    "\n"
   ]
  },
  {
   "cell_type": "code",
   "execution_count": 71,
   "metadata": {},
   "outputs": [
    {
     "name": "stdout",
     "output_type": "stream",
     "text": [
      "make minibatches\n",
      "... number of records used:  16\n",
      "... teaching input y is:     y\n",
      "... number of classes:       2\n",
      "... number of columns used:  8\n",
      "... data columns:            [\"x1\", \"x2\", \"x3\", \"x4\", \"x5\", \"x6\", \"x7\", \"x8\"]\n",
      "Training 10 epochs with 4 minibatches/epoch.\n",
      "Evaluation is performed every 4 minibatches with 1 mbs.\n",
      "Watch the progress with TensorBoard at:\n",
      "/data/scripts/logs/run/2022-04-14T11-00-01\n"
     ]
    },
    {
     "name": "stderr",
     "output_type": "stream",
     "text": [
      "\u001b[32mProgress: 100%|█████████████████████████████████████████| Time: 0:00:00\u001b[39m\n"
     ]
    },
    {
     "name": "stdout",
     "output_type": "stream",
     "text": [
      "Setting learning rate to η=5.62e-04 in epoch 2.2\n",
      "Setting learning rate to η=3.16e-04 in epoch 4.2\n",
      "Setting learning rate to η=1.78e-04 in epoch 6.2\n",
      "Setting learning rate to η=1.00e-04 in epoch 8.2\n",
      "Training finished with:\n",
      "Training loss:       0.6715686023235321\n"
     ]
    },
    {
     "data": {
      "text/plain": [
       "Classifier(Any[Dense(P(CuArray{Float32, 2, CUDA.Mem.DeviceBuffer}(8,8)), P(CuArray{Float32, 1, CUDA.Mem.DeviceBuffer}(8)), Knet.Ops20.relu), Dense(P(CuArray{Float32, 2, CUDA.Mem.DeviceBuffer}(8,8)), P(CuArray{Float32, 1, CUDA.Mem.DeviceBuffer}(8)), Knet.Ops20.sigm), Dense(P(CuArray{Float32, 2, CUDA.Mem.DeviceBuffer}(2,8)), P(CuArray{Float32, 1, CUDA.Mem.DeviceBuffer}(2)), identity)])"
      ]
     },
     "execution_count": 71,
     "metadata": {},
     "output_type": "execute_result"
    }
   ],
   "source": [
    "# create weights for test mlp\n",
    "trn = DataFrame(x1=randn(16), x2=randn(16),\n",
    "                x3=randn(16), x4=randn(16),\n",
    "                x5=randn(16), x6=randn(16),\n",
    "                x7=randn(16), x8=randn(16),\n",
    "                y=(collect(rand(1:2 , 16 ))))\n",
    "\n",
    "mb = dataframe_minibatch(trn, size=4, teaching= :y)\n",
    "\n",
    "mlp = Classifier(Dense(8,8, actf=relu),   \n",
    "                Dense(8,8),\n",
    "                Dense(8, 2, actf=identity))\n",
    "\n",
    "\n",
    "mlp = tb_train!(mlp, Adam, mb, epochs=10, acc_fun=nothing,\n",
    "        lr=0.001, lr_decay=0.0001, lrd_steps=5)\n"
   ]
  },
  {
   "cell_type": "code",
   "execution_count": 82,
   "metadata": {},
   "outputs": [
    {
     "ename": "LoadError",
     "evalue": "UndefVarError: mlp not defined",
     "output_type": "error",
     "traceback": [
      "UndefVarError: mlp not defined",
      "",
      "Stacktrace:",
      " [1] confusion_matrix(model::Classifier, data::Knet.Train20.Data{Tuple{CuArray{Float32}, Array{UInt8}}}, human_readable::Bool)",
      "   @ NNHelferlein ~/.julia/dev/NNHelferlein/src/util.jl:357",
      " [2] top-level scope",
      "   @ In[82]:11",
      " [3] eval",
      "   @ ./boot.jl:373 [inlined]",
      " [4] include_string(mapexpr::typeof(REPL.softscope), mod::Module, code::String, filename::String)",
      "   @ Base ./loading.jl:1196"
     ]
    }
   ],
   "source": [
    "# safe weights to jld (hdf5)\n",
    "\n",
    "TEST_NET_PATH = joinpath(DATA_DIR, \"testdata\", \"dummy_mlp.jld2\")\n",
    "\n",
    "save(TEST_NET_PATH, \"mlp\",  mlp, \"mb\" , mb) # path could be different \n",
    "\n",
    "test_net = load(TEST_NET_PATH)\n",
    "mlp = test_net[\"mlp\"]\n",
    "mb = test_net[\"mb\"]\n",
    "\n",
    "confusion_matrix(mlp, mb,  true)"
   ]
  },
  {
   "cell_type": "code",
   "execution_count": 81,
   "metadata": {},
   "outputs": [
    {
     "data": {
      "text/plain": [
       "1"
      ]
     },
     "execution_count": 81,
     "metadata": {},
     "output_type": "execute_result"
    }
   ],
   "source": [
    "# confusion_matrix(mlp , trn, false)\n",
    "Threads.nthreads(  )\n",
    "Threads.nthreads() = 10"
   ]
  }
 ],
 "metadata": {
  "kernelspec": {
   "display_name": "Julia 1.7.2",
   "language": "julia",
   "name": "julia-1.7"
  },
  "language_info": {
   "file_extension": ".jl",
   "mimetype": "application/julia",
   "name": "julia",
   "version": "1.7.2"
  },
  "orig_nbformat": 4
 },
 "nbformat": 4,
 "nbformat_minor": 2
}
