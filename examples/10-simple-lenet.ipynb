{
 "cells": [
  {
   "cell_type": "markdown",
   "id": "6e1f3b0e",
   "metadata": {},
   "source": [
    "# Simple LeNet for MNIST classification\n",
    "\n",
    "Inspired by Yann LeCunns LeNet-5 (Y. LeCun, L. Bottou, Y. Bengio, and P. Haffner. Gradient-based learning applied to document recognition. Proceedings of the IEEE, 1998)."
   ]
  },
  {
   "cell_type": "code",
   "execution_count": 1,
   "id": "69d9393f",
   "metadata": {},
   "outputs": [],
   "source": [
    "using Knet\n",
    "using NNHelferlein\n",
    "using MLDatasets: MNIST"
   ]
  },
  {
   "cell_type": "markdown",
   "id": "6b3b8c8b",
   "metadata": {},
   "source": [
    "### Get MNIST data from MLDatasets:"
   ]
  },
  {
   "cell_type": "code",
   "execution_count": 2,
   "id": "42f8e50e",
   "metadata": {},
   "outputs": [],
   "source": [
    "mnist_dir = joinpath(NNHelferlein.DATA_DIR, \"mnist\")\n",
    "xtrn,ytrn = MNIST.traindata(Float32, dir=mnist_dir)\n",
    "ytrn[ytrn.==0] .= 10\n",
    "dtrn = minibatch(xtrn, ytrn, 128; xsize = (28,28,1,:))\n",
    "\n",
    "xtst,ytst = MNIST.testdata(Float32, dir=mnist_dir)\n",
    "ytst[ytst.==0] .= 10\n",
    "dtst = minibatch(xtst, ytst, 128; xsize = (28,28,1,:));"
   ]
  },
  {
   "cell_type": "markdown",
   "id": "5c776522",
   "metadata": {},
   "source": [
    "### Define LeNet with NNHelferlein types:"
   ]
  },
  {
   "cell_type": "code",
   "execution_count": 3,
   "id": "411cc55b",
   "metadata": {},
   "outputs": [
    {
     "data": {
      "text/plain": [
       "Classifier((Conv(P(KnetArray{Float32, 4}(5,5,1,20)), P(KnetArray{Float32, 4}(1,1,20,1)), Knet.Ops20.relu, Base.Pairs{Symbol, Union{}, Tuple{}, NamedTuple{(), Tuple{}}}()), Pool(Base.Pairs{Symbol, Union{}, Tuple{}, NamedTuple{(), Tuple{}}}()), Conv(P(KnetArray{Float32, 4}(5,5,20,50)), P(KnetArray{Float32, 4}(1,1,50,1)), Knet.Ops20.relu, Base.Pairs{Symbol, Union{}, Tuple{}, NamedTuple{(), Tuple{}}}()), Pool(Base.Pairs{Symbol, Union{}, Tuple{}, NamedTuple{(), Tuple{}}}()), Flat(), Dense(P(Knet.KnetArrays.KnetMatrix{Float32}(512,800)), P(Knet.KnetArrays.KnetVector{Float32}(512)), Knet.Ops20.sigm), Dense(P(Knet.KnetArrays.KnetMatrix{Float32}(10,512)), P(Knet.KnetArrays.KnetVector{Float32}(10)), identity)))"
      ]
     },
     "execution_count": 3,
     "metadata": {},
     "output_type": "execute_result"
    }
   ],
   "source": [
    "lenet = Classifier(Conv(5,5,1,20),       \n",
    "                Pool(),\n",
    "                Conv(5,5,20,50),\n",
    "                Pool(),\n",
    "                Flat(),\n",
    "                Dense(800,512), \n",
    "                Dense(512,10, actf=identity)\n",
    "        )"
   ]
  },
  {
   "cell_type": "code",
   "execution_count": 4,
   "id": "7828940c",
   "metadata": {},
   "outputs": [
    {
     "name": "stdout",
     "output_type": "stream",
     "text": [
      "Neural network summary:\n",
      "Classifier with 7 layers,                                       440812 params\n",
      "Details:\n",
      " \n",
      "    Conv layer 1 → 20 (5,5) with relu,                             520 params\n",
      "    Pool layer,                                                      0 params\n",
      "    Conv layer 20 → 50 (5,5) with relu,                          25050 params\n",
      "    Pool layer,                                                      0 params\n",
      "    Flat layer,                                                      0 params\n",
      "    Dense layer 800 → 512 with sigm,                            410112 params\n",
      "    Dense layer 512 → 10 with identity,                           5130 params\n",
      " \n",
      "Total number of layers: 7\n",
      "Total number of parameters: 440812\n"
     ]
    },
    {
     "data": {
      "text/plain": [
       "7"
      ]
     },
     "execution_count": 4,
     "metadata": {},
     "output_type": "execute_result"
    }
   ],
   "source": [
    "print_network(lenet)"
   ]
  },
  {
   "cell_type": "markdown",
   "id": "dd323a8b",
   "metadata": {},
   "source": [
    "### Train with Tensorboard logger:"
   ]
  },
  {
   "cell_type": "code",
   "execution_count": 5,
   "id": "10bca1da",
   "metadata": {
    "scrolled": true
   },
   "outputs": [
    {
     "name": "stdout",
     "output_type": "stream",
     "text": [
      "Splitting dataset for training (80%) and validation (20%).\n",
      "Training 2 epochs with 374 minibatches/epoch and 94 validation mbs.\n",
      "Evaluation is performed every 75 minibatches with 19 mbs.\n",
      "Watch the progress with TensorBoard at:\n",
      "/home/andreas/.julia/dev/NNHelferlein/examples/logs/example_run/2022-01-23T16-16-44\n"
     ]
    },
    {
     "name": "stderr",
     "output_type": "stream",
     "text": [
      "\u001b[32mProgress: 100%|█████████████████████████████████████████| Time: 0:00:13\u001b[39m\n"
     ]
    },
    {
     "name": "stdout",
     "output_type": "stream",
     "text": [
      "Training finished with:\n",
      "Training loss:       0.06485884927990124\n",
      "Training accuracy:   0.9804478609625669\n",
      "Validation loss:     0.08135789355382006\n",
      "Validation accuracy: 0.975814494680851\n",
      "Test loss:           0.0653717\n",
      "Test accuracy:       0.9805689102564102\n"
     ]
    }
   ],
   "source": [
    "tb_train!(lenet, Adam, dtrn, epochs=2, split=0.8,\n",
    "        acc_fun=accuracy,\n",
    "        eval_size=0.2, eval_freq=5, mb_loss_freq=100, \n",
    "        tb_name=\"example_run\", tb_text=\"NNHelferlein example\")\n",
    "\n",
    "println(\"Test loss:           $(lenet(dtst))\")\n",
    "println(\"Test accuracy:       $(accuracy(lenet, data=dtst))\");"
   ]
  },
  {
   "cell_type": "markdown",
   "id": "9a8b5aa3",
   "metadata": {},
   "source": [
    "Tensorboard output:    \n",
    "<img src=\"assets/10-mnist-tb.png\">"
   ]
  }
 ],
 "metadata": {
  "kernelspec": {
   "display_name": "Julia 1.7.0",
   "language": "julia",
   "name": "julia-1.7"
  },
  "language_info": {
   "file_extension": ".jl",
   "mimetype": "application/julia",
   "name": "julia",
   "version": "1.7.0"
  }
 },
 "nbformat": 4,
 "nbformat_minor": 5
}
