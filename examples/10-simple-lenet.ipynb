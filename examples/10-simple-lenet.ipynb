{
 "cells": [
  {
   "cell_type": "markdown",
   "id": "1fc4a897",
   "metadata": {},
   "source": [
    "# Simple LeNet for MNIST classification\n",
    "\n",
    "Inspired by Yann LeCunns LeNet-5 (Y. LeCun, L. Bottou, Y. Bengio, and P. Haffner. Gradient-based learning applied to document recognition. Proceedings of the IEEE, 1998)."
   ]
  },
  {
   "cell_type": "code",
   "execution_count": null,
   "id": "6693743e",
   "metadata": {},
   "outputs": [],
   "source": [
    "using Knet\n",
    "using NNHelferlein\n",
    "using MLDatasets: MNIST"
   ]
  },
  {
   "cell_type": "markdown",
   "id": "f7332395",
   "metadata": {},
   "source": [
    "### Get MNIST data from MLDatasets:"
   ]
  },
  {
   "cell_type": "code",
   "execution_count": null,
   "id": "c7be584d",
   "metadata": {},
   "outputs": [],
   "source": [
    "mnist_dir = joinpath(NNHelferlein.DATA_DIR, \"mnist\")\n",
    "xtrn,ytrn = MNIST.traindata(Float32, dir=mnist_dir)\n",
    "ytrn[ytrn.==0] .= 10\n",
    "dtrn = minibatch(xtrn, ytrn, 100; xsize = (28,28,1,:))\n",
    "\n",
    "xvld,yvld = MNIST.testdata(Float32, dir=mnist_dir)\n",
    "yvld[yvld.==0] .= 10\n",
    "dvld = minibatch(xvld, yvld, 100; xsize = (28,28,1,:));"
   ]
  }
 ],
 "metadata": {
  "kernelspec": {
   "display_name": "Julia 1.7.0",
   "language": "julia",
   "name": "julia-1.7"
  },
  "language_info": {
   "file_extension": ".jl",
   "mimetype": "application/julia",
   "name": "julia",
   "version": "1.7.0"
  }
 },
 "nbformat": 4,
 "nbformat_minor": 5
}
