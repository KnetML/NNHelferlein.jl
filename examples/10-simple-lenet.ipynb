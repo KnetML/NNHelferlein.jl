{
 "cells": [
  {
   "cell_type": "markdown",
   "id": "bf83bba0",
   "metadata": {},
   "source": [
    "# Simple LeNet for MNIST classification\n",
    "\n",
    "... inspired by Yann LeCun's LeNet-5 as published in:   \n",
    "Y. LeCun, L. Bottou, Y. Bengio, and P. Haffner. Gradient-based learning applied to document recognition. *Proceedings of the IEEE,* 1998."
   ]
  }
 ],
 "metadata": {
  "kernelspec": {
   "display_name": "Julia 1.7.0",
   "language": "julia",
   "name": "julia-1.7"
  },
  "language_info": {
   "file_extension": ".jl",
   "mimetype": "application/julia",
   "name": "julia",
   "version": "1.7.0"
  }
 },
 "nbformat": 4,
 "nbformat_minor": 5
}
