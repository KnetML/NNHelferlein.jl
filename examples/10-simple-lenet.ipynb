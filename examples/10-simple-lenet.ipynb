{
 "cells": [
  {
   "cell_type": "markdown",
   "id": "335a1d7a",
   "metadata": {},
   "source": [
    "# Simple LeNet for MNIST classification\n",
    "\n",
    "Inspired by Yann LeCunns LeNet-5 (Y. LeCun, L. Bottou, Y. Bengio, and P. Haffner. Gradient-based learning applied to document recognition. Proceedings of the IEEE, 1998)."
   ]
  },
  {
   "cell_type": "code",
   "execution_count": null,
   "id": "60254fe5",
   "metadata": {},
   "outputs": [],
   "source": [
    "using Knet\n",
    "using NNHelferlein\n",
    "using MLDatasets: MNIST"
   ]
  },
  {
   "cell_type": "markdown",
   "id": "b1dd6cd2",
   "metadata": {},
   "source": [
    "### Get MNIST data from MLDatasets:"
   ]
  },
  {
   "cell_type": "code",
   "execution_count": null,
   "id": "a9368c9b",
   "metadata": {},
   "outputs": [],
   "source": [
    "mnist_dir = joinpath(NNHelferlein.DATA_DIR, \"mnist\")\n",
    "xtrn,ytrn = MNIST.traindata(Float32, dir=mnist_dir)\n",
    "ytrn[ytrn.==0] .= 10\n",
    "dtrn = minibatch(xtrn, ytrn, 100; xsize = (28,28,1,:))\n",
    "\n",
    "xvld,yvld = MNIST.testdata(Float32, dir=mnist_dir)\n",
    "yvld[yvld.==0] .= 10\n",
    "dvld = minibatch(xvld, yvld, 100; xsize = (28,28,1,:));"
   ]
  },
  {
   "cell_type": "markdown",
   "id": "67f1b6c4",
   "metadata": {},
   "source": [
    "### Define LeNet with NNHelferlein types:"
   ]
  },
  {
   "cell_type": "code",
   "execution_count": null,
   "id": "3392325b",
   "metadata": {},
   "outputs": [],
   "source": [
    "lenet = Classifier(Conv(5,5,1,20),       \n",
    "                Pool(),\n",
    "                Conv(5,5,20,50),\n",
    "                Pool(),\n",
    "                Flat(),\n",
    "                Dense(800,512), \n",
    "                Dense(512,10, actf=identity)\n",
    "        )"
   ]
  },
  {
   "cell_type": "markdown",
   "id": "0b54328c",
   "metadata": {},
   "source": [
    "### Train with Tensorboard logger:"
   ]
  },
  {
   "cell_type": "code",
   "execution_count": null,
   "id": "061a9192",
   "metadata": {},
   "outputs": [],
   "source": [
    "tb_train!(lenet, Adam, dtrn, dvld, epochs=2,\n",
    "        acc_fun=accuracy,\n",
    "        eval_size=0.2, eval_freq=5, mb_loss_freq=100, \n",
    "        tb_name=\"example_run\", tb_text=\"NNHelferlein example\")"
   ]
  },
  {
   "cell_type": "markdown",
   "id": "ec3339ea",
   "metadata": {},
   "source": [
    "Tensorboard output:    \n",
    "<img src=\"assets/10-mnist_tb.png\">"
   ]
  }
 ],
 "metadata": {
  "kernelspec": {
   "display_name": "Julia 1.7.0",
   "language": "julia",
   "name": "julia-1.7"
  },
  "language_info": {
   "file_extension": ".jl",
   "mimetype": "application/julia",
   "name": "julia",
   "version": "1.7.0"
  }
 },
 "nbformat": 4,
 "nbformat_minor": 5
}
