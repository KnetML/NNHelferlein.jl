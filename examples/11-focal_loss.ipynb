{
 "cells": [
  {
   "cell_type": "markdown",
   "id": "6e1f3b0e",
   "metadata": {},
   "source": [
    "# Simple MLP for a heavily unbalanced for MNIST classification\n",
    "\n",
    "In order to test the tarining of a MLP with heavily unbalanced data, the MNIST dataset is restricted \n",
    "to the *ones* and only 10% of the *twos* \n",
    "(i.e. 90% of the training data are *one* and 10% are *two*).\n",
    "\n",
    "A first normal MLP is trained with the unbalanced data and show the expected restult \n",
    "(i.e. only the major class *one* is learned).     \n",
    "Training the same MLP with *focal_nll* loss instead of *nll* increases the influence of the minor class\n",
    "and allows for training with unbalanced data."
   ]
  },
  {
   "cell_type": "code",
   "execution_count": 1,
   "id": "69d9393f",
   "metadata": {},
   "outputs": [],
   "source": [
    "using Knet\n",
    "using NNHelferlein"
   ]
  },
  {
   "cell_type": "markdown",
   "id": "6b3b8c8b",
   "metadata": {},
   "source": [
    "### Get MNIST data from MLDatasets:\n",
    "... and use only the `1` and 10% of the `2` for training:"
   ]
  },
  {
   "cell_type": "code",
   "execution_count": 2,
   "id": "42f8e50e",
   "metadata": {
    "scrolled": false
   },
   "outputs": [
    {
     "name": "stdout",
     "output_type": "stream",
     "text": [
      "Training instances for 1: 6742\n",
      "Training instances for 2: 611\n"
     ]
    }
   ],
   "source": [
    "xtrn, ytrn, xtst, ytst = dataset_mnist()\n",
    "\n",
    "trn1 = ytrn .== 1\n",
    "trn2 = (ytrn .== 2)\n",
    "trn2 = [rand() < 0.10 ? i : false for i in trn2] \n",
    "trn_mask = trn1 .| trn2\n",
    "\n",
    "tst1 = ytst .== 1\n",
    "tst2 = ytst .== 2\n",
    "tst_mask = tst1 .| tst2\n",
    "\n",
    "println(\"Training instances for 1: $(sum(trn1))\")\n",
    "println(\"Training instances for 2: $(sum(trn2))\")"
   ]
  },
  {
   "cell_type": "code",
   "execution_count": 3,
   "id": "078f42bf",
   "metadata": {},
   "outputs": [
    {
     "data": {
      "text/plain": [
       "16-element Knet.Train20.Data{Tuple{CuArray{Float32}, Array{Int64}}}"
      ]
     },
     "execution_count": 3,
     "metadata": {},
     "output_type": "execute_result"
    }
   ],
   "source": [
    "dtrn = minibatch(xtrn[:,:,trn_mask], ytrn[trn_mask], 128; xsize=(28*28,:))\n",
    "dtst = minibatch(xtst[:,:,tst_mask], ytst[tst_mask], 128; xsize=(28*28,:))"
   ]
  },
  {
   "cell_type": "markdown",
   "id": "5c776522",
   "metadata": {},
   "source": [
    "## Define the MLP with NNHelferlein types and default loss (NLL):"
   ]
  },
  {
   "cell_type": "code",
   "execution_count": 4,
   "id": "411cc55b",
   "metadata": {},
   "outputs": [
    {
     "data": {
      "text/plain": [
       "Classifier(Any[Dense(P(CuArray{Float32, 2, CUDA.Mem.DeviceBuffer}(512,784)), P(CuArray{Float32, 1, CUDA.Mem.DeviceBuffer}(512)), Knet.Ops20.sigm), Dense(P(CuArray{Float32, 2, CUDA.Mem.DeviceBuffer}(256,512)), P(CuArray{Float32, 1, CUDA.Mem.DeviceBuffer}(256)), Knet.Ops20.sigm), Dense(P(CuArray{Float32, 2, CUDA.Mem.DeviceBuffer}(64,256)), P(CuArray{Float32, 1, CUDA.Mem.DeviceBuffer}(64)), Knet.Ops20.sigm), Dense(P(CuArray{Float32, 2, CUDA.Mem.DeviceBuffer}(10,64)), P(CuArray{Float32, 1, CUDA.Mem.DeviceBuffer}(10)), identity)], Knet.Ops20.nll)"
      ]
     },
     "execution_count": 4,
     "metadata": {},
     "output_type": "execute_result"
    }
   ],
   "source": [
    "mlp = Classifier(Dense(28*28, 512),\n",
    "                Dense(512, 256), \n",
    "                Dense(256, 64), \n",
    "                Dense(64,10, actf=identity)\n",
    "        )"
   ]
  },
  {
   "cell_type": "markdown",
   "id": "dd323a8b",
   "metadata": {},
   "source": [
    "### Train:"
   ]
  },
  {
   "cell_type": "code",
   "execution_count": 5,
   "id": "10bca1da",
   "metadata": {
    "scrolled": false
   },
   "outputs": [
    {
     "name": "stdout",
     "output_type": "stream",
     "text": [
      "Training 2 epochs with 57 minibatches/epoch.\n",
      "Evaluation is performed every 57 minibatches with 12 mbs.\n",
      "TensorBoard logs are disabled!\n"
     ]
    },
    {
     "name": "stderr",
     "output_type": "stream",
     "text": [
      "\u001b[32mProgress: 100%|█████████████████████████████████████████| Time: 0:00:22\u001b[39m\n"
     ]
    },
    {
     "name": "stdout",
     "output_type": "stream",
     "text": [
      "Training finished with:\n",
      "Training loss:       0.29593414\n",
      "Training accuracy:   0.9168037280701754\n",
      "Test loss:           1.0457104\n",
      "Test accuracy:       0.52294921875\n"
     ]
    }
   ],
   "source": [
    "tb_train!(mlp, Adam, dtrn, epochs=2,\n",
    "        acc_fun=accuracy,\n",
    "        tb_name=\"nll_loss_example\", tensorboard=false)\n",
    "\n",
    "println(\"Test loss:           $(mlp(dtst))\")\n",
    "println(\"Test accuracy:       $(accuracy(mlp, data=dtst))\");"
   ]
  },
  {
   "cell_type": "markdown",
   "id": "0d3abc52",
   "metadata": {},
   "source": [
    ">90% accuracy seems not that bad at first glance - but let us look at the confusuion matrix:    \n",
    "the MLP only learned one of the classes:"
   ]
  },
  {
   "cell_type": "code",
   "execution_count": 6,
   "id": "dc3b8862",
   "metadata": {
    "scrolled": true
   },
   "outputs": [
    {
     "name": "stdout",
     "output_type": "stream",
     "text": [
      "     \"1\"   \"2\"  \"pred/true\"\n",
      " 6689     0     \"1\"\n",
      "  607     0     \"2\""
     ]
    }
   ],
   "source": [
    "confusion_matrix(mlp, data=dtrn);"
   ]
  },
  {
   "cell_type": "markdown",
   "id": "578509ba",
   "metadata": {},
   "source": [
    "## Define the MLP with focal loss (focal NLL):"
   ]
  },
  {
   "cell_type": "code",
   "execution_count": 7,
   "id": "eaed1dba",
   "metadata": {},
   "outputs": [],
   "source": [
    "mlp = Classifier(Dense(28*28, 512),\n",
    "                Dense(512, 256), \n",
    "                Dense(256, 64), \n",
    "                Dense(64,10, actf=identity),\n",
    "                loss=focal_nll\n",
    "        );"
   ]
  },
  {
   "cell_type": "markdown",
   "id": "ecf15419",
   "metadata": {},
   "source": [
    "### Train:"
   ]
  },
  {
   "cell_type": "code",
   "execution_count": 8,
   "id": "7f8cb868",
   "metadata": {
    "scrolled": true
   },
   "outputs": [
    {
     "name": "stdout",
     "output_type": "stream",
     "text": [
      "Training 2 epochs with 57 minibatches/epoch.\n",
      "Evaluation is performed every 57 minibatches with 12 mbs.\n",
      "TensorBoard logs are disabled!\n"
     ]
    },
    {
     "name": "stderr",
     "output_type": "stream",
     "text": [
      "\u001b[32mProgress: 100%|█████████████████████████████████████████| Time: 0:00:07\u001b[39m\n"
     ]
    },
    {
     "name": "stdout",
     "output_type": "stream",
     "text": [
      "Training finished with:\n",
      "Training loss:       0.009121515759293873\n",
      "Training accuracy:   0.9901315789473685\n",
      "Test loss:           0.02482672786559348\n",
      "Test accuracy:       0.97216796875\n"
     ]
    }
   ],
   "source": [
    "tb_train!(mlp, Adam, dtrn, epochs=2,\n",
    "        acc_fun=accuracy,\n",
    "        tb_name=\"focal_nll_example\", tensorboard=false)\n",
    "\n",
    "println(\"Test loss:           $(mlp(dtst))\")\n",
    "println(\"Test accuracy:       $(accuracy(mlp, data=dtst))\");"
   ]
  },
  {
   "cell_type": "markdown",
   "id": "22d0a5a3",
   "metadata": {},
   "source": [
    "Now the confusion matrix reveils a balanced training of both classes:"
   ]
  },
  {
   "cell_type": "code",
   "execution_count": 9,
   "id": "1fdfff93",
   "metadata": {},
   "outputs": [
    {
     "name": "stdout",
     "output_type": "stream",
     "text": [
      "     \"1\"     \"2\"  \"pred/true\"\n",
      " 6641      48     \"1\"\n",
      "   24     583     \"2\""
     ]
    }
   ],
   "source": [
    "confusion_matrix(mlp, data=dtrn);"
   ]
  }
 ],
 "metadata": {
  "kernelspec": {
   "display_name": "Julia 1.7.0",
   "language": "julia",
   "name": "julia-1.7"
  },
  "language_info": {
   "file_extension": ".jl",
   "mimetype": "application/julia",
   "name": "julia",
   "version": "1.7.0"
  }
 },
 "nbformat": 4,
 "nbformat_minor": 5
}
