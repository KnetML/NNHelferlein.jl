{
 "cells": [
  {
   "cell_type": "markdown",
   "metadata": {},
   "source": [
    "# bla"
   ]
  },
  {
   "cell_type": "code",
   "execution_count": 1,
   "metadata": {
    "scrolled": true
   },
   "outputs": [],
   "source": [
    "using Knet\n",
    "using NNHelferlein\n",
    "using MLDatasets: MNIST"
   ]
  },
  {
   "cell_type": "markdown",
   "metadata": {},
   "source": [
    "### Get MNIST data:"
   ]
  },
  {
   "cell_type": "code",
   "execution_count": 6,
   "metadata": {},
   "outputs": [],
   "source": [
    "mnist_dir = joinpath(NNHelferlein.DATA_DIR, \"mnist\")\n",
    "xtrn,ytrn = MNIST.traindata(Float32, dir=mnist_dir)\n",
    "ytrn[ytrn.==0] .= 10\n",
    "dtrn = minibatch(xtrn, ytrn, 100; xsize = (28,28,1,:))\n",
    "\n",
    "xvld,yvld = MNIST.testdata(Float32, dir=mnist_dir)\n",
    "yvld[yvld.==0] .= 10\n",
    "dvld = minibatch(xvld, yvld, 100; xsize = (28,28,1,:));"
   ]
  },
  {
   "cell_type": "markdown",
   "metadata": {},
   "source": [
    "### Define LeNet with NNHelferlein types:\n",
    "(Knet style)"
   ]
  },
  {
   "cell_type": "code",
   "execution_count": 7,
   "metadata": {},
   "outputs": [
    {
     "data": {
      "text/plain": [
       "Classifier((Conv(P(KnetArray{Float32, 4}(5,5,1,20)), P(KnetArray{Float32, 4}(1,1,20,1)), Knet.Ops20.relu, Base.Pairs{Symbol, Union{}, Tuple{}, NamedTuple{(), Tuple{}}}()), Pool(Base.Pairs{Symbol, Union{}, Tuple{}, NamedTuple{(), Tuple{}}}()), Conv(P(KnetArray{Float32, 4}(5,5,20,50)), P(KnetArray{Float32, 4}(1,1,50,1)), Knet.Ops20.relu, Base.Pairs{Symbol, Union{}, Tuple{}, NamedTuple{(), Tuple{}}}()), Pool(Base.Pairs{Symbol, Union{}, Tuple{}, NamedTuple{(), Tuple{}}}()), Flat(), Dense(P(Knet.KnetArrays.KnetMatrix{Float32}(512,800)), P(Knet.KnetArrays.KnetVector{Float32}(512)), Knet.Ops20.sigm), Dense(P(Knet.KnetArrays.KnetMatrix{Float32}(10,512)), P(Knet.KnetArrays.KnetVector{Float32}(10)), identity)))"
      ]
     },
     "execution_count": 7,
     "metadata": {},
     "output_type": "execute_result"
    }
   ],
   "source": [
    "lenet = Classifier(Conv(5,5,1,20),       \n",
    "                Pool(),\n",
    "                Conv(5,5,20,50),\n",
    "                Pool(),\n",
    "                Flat(),\n",
    "                Dense(800,512), \n",
    "                Dense(512,10, actf=identity)\n",
    "        )"
   ]
  },
  {
   "cell_type": "markdown",
   "metadata": {},
   "source": [
    "### Train with TensorBoard log:"
   ]
  },
  {
   "cell_type": "code",
   "execution_count": 8,
   "metadata": {
    "scrolled": true
   },
   "outputs": [
    {
     "name": "stderr",
     "output_type": "stream",
     "text": [
      "\u001b[32mProgress: 100%|█████████████████████████████████████████| Time: 0:00:07\u001b[39m\n"
     ]
    },
    {
     "name": "stdout",
     "output_type": "stream",
     "text": [
      "Training 2 epochs with 600 minibatches/epoch\n",
      "    (and 100 validation mbs).\n",
      "Evaluation is performed every 120 minibatches (with 20 mbs).\n",
      "Watch the progress with TensorBoard at: /home/andreas/.julia/dev/NNHelferlein/examples/logs/example_run/2021-12-19T16-26-40\n",
      "Training finished with:\n",
      "Training loss:       0.04318398844877568\n",
      "Training accuracy:   0.9865333333333334\n",
      "Validation loss:     0.04422833382996032\n",
      "Validation accuracy: 0.9852\n"
     ]
    },
    {
     "data": {
      "text/plain": [
       "Classifier((Conv(P(KnetArray{Float32, 4}(5,5,1,20)), P(KnetArray{Float32, 4}(1,1,20,1)), Knet.Ops20.relu, Base.Pairs{Symbol, Union{}, Tuple{}, NamedTuple{(), Tuple{}}}()), Pool(Base.Pairs{Symbol, Union{}, Tuple{}, NamedTuple{(), Tuple{}}}()), Conv(P(KnetArray{Float32, 4}(5,5,20,50)), P(KnetArray{Float32, 4}(1,1,50,1)), Knet.Ops20.relu, Base.Pairs{Symbol, Union{}, Tuple{}, NamedTuple{(), Tuple{}}}()), Pool(Base.Pairs{Symbol, Union{}, Tuple{}, NamedTuple{(), Tuple{}}}()), Flat(), Dense(P(Knet.KnetArrays.KnetMatrix{Float32}(512,800)), P(Knet.KnetArrays.KnetVector{Float32}(512)), Knet.Ops20.sigm), Dense(P(Knet.KnetArrays.KnetMatrix{Float32}(10,512)), P(Knet.KnetArrays.KnetVector{Float32}(10)), identity)))"
      ]
     },
     "execution_count": 8,
     "metadata": {},
     "output_type": "execute_result"
    }
   ],
   "source": [
    "tb_train!(lenet, Adam, dtrn, dvld, epochs=2,\n",
    "        acc_fun=accuracy,\n",
    "        eval_size=0.2, eval_freq=5, mb_loss_freq=100, \n",
    "        tb_name=\"example_run\", tb_text=\"NNHelferlein example\")"
   ]
  },
  {
   "cell_type": "markdown",
   "metadata": {},
   "source": [
    "### TensorBoard:"
   ]
  },
  {
   "cell_type": "markdown",
   "metadata": {},
   "source": [
    "<img src=\"assets/10-mnist_tb.png\">"
   ]
  }
 ],
 "metadata": {
  "@webio": {
   "lastCommId": null,
   "lastKernelId": null
  },
  "kernelspec": {
   "display_name": "Julia (8 threads) 1.7.0",
   "language": "julia",
   "name": "julia-(8-threads)-1.7"
  },
  "language_info": {
   "file_extension": ".jl",
   "mimetype": "application/julia",
   "name": "julia",
   "version": "1.7.0"
  }
 },
 "nbformat": 4,
 "nbformat_minor": 2
}
