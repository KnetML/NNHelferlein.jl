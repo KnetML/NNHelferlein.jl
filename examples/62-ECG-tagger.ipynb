{
 "cells": [
  {
   "cell_type": "markdown",
   "id": "65dbf8f9",
   "metadata": {},
   "source": [
    "# An RNN Sequence tagger for annotation of ECGs\n",
    "\n",
    "This example shows how to set-up a sequence tagger and how to integrate self-written\n",
    "recurrent units with the NNHelferlein ecosystem.\n",
    "\n",
    "The goal is, to annotate ECG recordings with the heart beats. \n",
    "As training data, a reduced set of 18 long-term ECG recordings have been prepared form the Physionet-Database\n",
    "(MIT-BIH Normal Sinus Rhythm Database, doi: https://doi.org/10.13026/C2NK5R).\n",
    "\n",
    "The ECGs are provided with a sampling rate of 128 points per sec and short windows are sampled \n",
    "from the data for training.\n",
    "To include about two heart beats in each window, sequences of 200 time steps are generated. \n",
    "To be able to handle these long sequences, we use Peephole-LSTM units which are said \n",
    "to be a good choice for long sequences with rare peaks."
   ]
  },
  {
   "cell_type": "code",
   "execution_count": 1,
   "id": "838c0730",
   "metadata": {},
   "outputs": [],
   "source": [
    "using Knet: param, param0, sigm, Adam\n",
    "using NNHelferlein\n",
    "using CSV, DataFrames, Statistics\n",
    "using Plots\n",
    "using ImageFiltering"
   ]
  },
  {
   "cell_type": "code",
   "execution_count": 2,
   "id": "1d6289ac",
   "metadata": {},
   "outputs": [
    {
     "data": {
      "text/plain": [
       "\"Beat-finder-8\""
      ]
     },
     "execution_count": 2,
     "metadata": {},
     "output_type": "execute_result"
    }
   ],
   "source": [
    "WIN = 200             # window size in time steps (rate = 128 per sec)\n",
    "SMOOTH = 11           # window size of kernel smoothing\n",
    "UNITS = 8             # number of recurrent units\n",
    "MB = 512              # minibatch size\n",
    "TRN = 1:15            # ECGs for training\n",
    "TST = 16:18           # ECGs for test\n",
    "NAME=\"Beat-finder-$UNITS\"    # name for TensorBoard log"
   ]
  },
  {
   "cell_type": "markdown",
   "id": "5f26902b",
   "metadata": {},
   "source": [
    "## Dataset:\n",
    "The 18 data files are provided as part of the NNhelferlein distribution as csv-files \n",
    "16265, 16272, 16273, 16420, 16483, 16539, 16773, 16786, 16795,\n",
    "17052, 17453, 18177, 18184, 19088, 19090, 19093, 19140, 19830.\n",
    "The files comprise the 3 columns `normal heart beat 0/1`, `channel 1` \n",
    "and `channel 2` of the ECG.\n",
    "Each file includes apount 50 000 heart beats and 15 of the files are used for training and validation\n",
    "and 3 for testing.\n",
    "\n",
    "To make the classification task a little bit less unbalanced the *beat* column (that displays\n",
    "many zeros and only single ones to mark the heart beats) is replaced by a \n",
    "*smooth* column by applying a gaussian filter to the beats. The shape of this new \n",
    "teaching input (or training target) is shown as green line in the first plot \n",
    "(in the later plots, the green line shows the prediction!).\n",
    "\n",
    "The importer function reads the training files and samples randomly windows of length 200 from the \n",
    "ECGs. The number of windows is adjusted, so that the total number of steps in all windows equals the\n",
    "total number of time steps in the source file (in analogy to a 0.632 bootstrap)."
   ]
  },
  {
   "cell_type": "code",
   "execution_count": 3,
   "id": "4a31b7ea",
   "metadata": {},
   "outputs": [
    {
     "data": {
      "text/plain": [
       "readEcg (generic function with 1 method)"
      ]
     },
     "execution_count": 3,
     "metadata": {},
     "output_type": "execute_result"
    }
   ],
   "source": [
    "function readEcg(record)\n",
    "    fname = joinpath(NNHelferlein.DATA_DIR, \"MIT-normal_sinus_rhythm\", record)\n",
    "    x = CSV.File(fname, header=[\"beat\", \"cha1\", \"cha2\"], \n",
    "                   types=[UInt8, Float32, Float32]) |> DataFrame\n",
    "    x.time = collect(1:nrow(x))./128 \n",
    "    \n",
    "    # smooth beats:\n",
    "    #\n",
    "    σ = 2.0; l = SMOOTH\n",
    "    w = ImageFiltering.KernelFactors.gaussian(σ, l)\n",
    "    sc = maximum(w)\n",
    "    x.smooth = Float32.(imfilter(x.beat, w, Fill(0,w)) ./ sc)\n",
    "    return x\n",
    "end"
   ]
  },
  {
   "cell_type": "code",
   "execution_count": 4,
   "id": "e607f5b8",
   "metadata": {
    "scrolled": true
   },
   "outputs": [
    {
     "data": {
      "text/html": [
       "<div class=\"data-frame\"><p>3 rows × 5 columns</p><table class=\"data-frame\"><thead><tr><th></th><th>beat</th><th>cha1</th><th>cha2</th><th>time</th><th>smooth</th></tr><tr><th></th><th title=\"UInt8\">UInt8</th><th title=\"Float32\">Float32</th><th title=\"Float32\">Float32</th><th title=\"Float64\">Float64</th><th title=\"Float32\">Float32</th></tr></thead><tbody><tr><th>1</th><td>0</td><td>-0.032</td><td>-0.0541</td><td>0.0078125</td><td>0.0</td></tr><tr><th>2</th><td>0</td><td>-0.032</td><td>0.0582</td><td>0.015625</td><td>0.0</td></tr><tr><th>3</th><td>0</td><td>-0.032</td><td>0.0582</td><td>0.0234375</td><td>0.0</td></tr></tbody></table></div>"
      ],
      "text/latex": [
       "\\begin{tabular}{r|ccccc}\n",
       "\t& beat & cha1 & cha2 & time & smooth\\\\\n",
       "\t\\hline\n",
       "\t& UInt8 & Float32 & Float32 & Float64 & Float32\\\\\n",
       "\t\\hline\n",
       "\t1 & 0 & -0.032 & -0.0541 & 0.0078125 & 0.0 \\\\\n",
       "\t2 & 0 & -0.032 & 0.0582 & 0.015625 & 0.0 \\\\\n",
       "\t3 & 0 & -0.032 & 0.0582 & 0.0234375 & 0.0 \\\\\n",
       "\\end{tabular}\n"
      ],
      "text/plain": [
       "\u001b[1m3×5 DataFrame\u001b[0m\n",
       "\u001b[1m Row \u001b[0m│\u001b[1m beat  \u001b[0m\u001b[1m cha1    \u001b[0m\u001b[1m cha2    \u001b[0m\u001b[1m time      \u001b[0m\u001b[1m smooth  \u001b[0m\n",
       "\u001b[1m     \u001b[0m│\u001b[90m UInt8 \u001b[0m\u001b[90m Float32 \u001b[0m\u001b[90m Float32 \u001b[0m\u001b[90m Float64   \u001b[0m\u001b[90m Float32 \u001b[0m\n",
       "─────┼─────────────────────────────────────────────\n",
       "   1 │     0   -0.032  -0.0541  0.0078125      0.0\n",
       "   2 │     0   -0.032   0.0582  0.015625       0.0\n",
       "   3 │     0   -0.032   0.0582  0.0234375      0.0"
      ]
     },
     "execution_count": 4,
     "metadata": {},
     "output_type": "execute_result"
    }
   ],
   "source": [
    "files = readdir(joinpath(NNHelferlein.DATA_DIR, \"MIT-normal_sinus_rhythm\"))\n",
    "nsr = [readEcg(nam) for nam in files]\n",
    "nsr[2][1:3,:]"
   ]
  },
  {
   "cell_type": "markdown",
   "id": "7cb329f8",
   "metadata": {},
   "source": [
    "#### Plotting the ECGs:"
   ]
  },
  {
   "cell_type": "code",
   "execution_count": 5,
   "id": "a00935cd",
   "metadata": {},
   "outputs": [
    {
     "data": {
      "text/plain": [
       "plotECG (generic function with 1 method)"
      ]
     },
     "execution_count": 5,
     "metadata": {},
     "output_type": "execute_result"
    }
   ],
   "source": [
    "function plotWindow(t, ch1, ch2, beats, preds=nothing)\n",
    "    \n",
    "    plt = plot(t, ch1, ylim=(-3.1,3), color=:black, \n",
    "               yticks=false, legends=false)\n",
    "    plt = plot(plt, t, ch2.+2, color=:blue)\n",
    "    plt = plot(plt, t, beats.-2, color=:red)\n",
    "    if !isnothing(preds)\n",
    "        preds = Array(preds)\n",
    "        plt = plot(plt, t, preds.-3, color=:green)\n",
    "    end\n",
    "    display(plt)\n",
    "    return plt\n",
    "end\n",
    "\n",
    "function plotECG(x, start; win=1000)\n",
    "    range = start:start+win\n",
    "    if \"smooth\" in names(x)\n",
    "        p = x.smooth[range]\n",
    "    else\n",
    "        p = nothing\n",
    "    end\n",
    "    plotWindow(x.time[range], x.cha1[range], x.cha2[range], x.beat[range], p)\n",
    "end"
   ]
  },
  {
   "cell_type": "markdown",
   "id": "3712a851",
   "metadata": {},
   "source": [
    "Plot illustrating the training data:\n",
    "+ *black, blue:* channel 1 and 2 of the ecg, scaled to a range\n",
    "  from-1 to 1\n",
    "+ *red:* annotated heart beats; only one time step marks the exact \n",
    "  position of the beats\n",
    "+ *green:* smoothed beats as teaching input."
   ]
  },
  {
   "cell_type": "code",
   "execution_count": null,
   "id": "492f9fda",
   "metadata": {
    "scrolled": false
   },
   "outputs": [],
   "source": [
    "plotECG(nsr[1], 1000000);"
   ]
  },
  {
   "cell_type": "markdown",
   "id": "b732986e",
   "metadata": {},
   "source": [
    "<img src=\"assets/62-data.png\">"
   ]
  },
  {
   "cell_type": "markdown",
   "id": "5efdabbf",
   "metadata": {},
   "source": [
    "#### Window sampling:\n",
    "\n",
    "Minibaches are constructed from randomly sampled windows from the training data:"
   ]
  },
  {
   "cell_type": "code",
   "execution_count": 7,
   "id": "3cc02d6a",
   "metadata": {},
   "outputs": [
    {
     "data": {
      "text/plain": [
       "random_window_sample (generic function with 1 method)"
      ]
     },
     "execution_count": 7,
     "metadata": {},
     "output_type": "execute_result"
    }
   ],
   "source": [
    "function random_window_sample(df...; win=200, n=nothing)\n",
    "    x = []; y = []\n",
    "    \n",
    "    num_df = length(df)\n",
    "    total = reduce(+, nrow.(df))\n",
    "    if isnothing(n)\n",
    "        n = cld(total, win)\n",
    "    end\n",
    "    println(\"Sampling $n windows from $num_df ECGs\")\n",
    "\n",
    "    for i in 1:n\n",
    "        dfs = df[rand(1:num_df)]\n",
    "        rows = nrow(dfs)\n",
    "    \n",
    "        wstart = rand(1:rows-win+1)\n",
    "        wrange = wstart:wstart+win-1\n",
    "        push!(x, permutedims(Array(dfs[wrange,[:cha1, :cha2]]), (2,1)))\n",
    "        push!(y, Array(dfs[wrange,:smooth]))\n",
    "    end\n",
    "    return (x, y)\n",
    "end"
   ]
  },
  {
   "cell_type": "code",
   "execution_count": 8,
   "id": "6f7a9430",
   "metadata": {},
   "outputs": [
    {
     "name": "stdout",
     "output_type": "stream",
     "text": [
      "Sampling 369801 windows from 15 ECGs\n"
     ]
    }
   ],
   "source": [
    "x,y = random_window_sample(nsr[TRN]..., win=WIN);"
   ]
  },
  {
   "cell_type": "code",
   "execution_count": 9,
   "id": "942f4c7f",
   "metadata": {
    "scrolled": false
   },
   "outputs": [],
   "source": [
    "dtrn = sequence_minibatch(x,y, MB, seq2seq=false);"
   ]
  },
  {
   "cell_type": "code",
   "execution_count": 10,
   "id": "c92241aa",
   "metadata": {},
   "outputs": [],
   "source": [
    "x,y = first(dtrn);"
   ]
  },
  {
   "cell_type": "markdown",
   "id": "4c6462dd",
   "metadata": {},
   "source": [
    "## Peephole LSTM\n",
    "\n",
    "The peephole LSTM unis are defined as a subtype of `RecurrentUnit` with a signature for\n",
    "forward calculation of one minibatch.\n",
    "Design follows the original paper of Gers & Schmidhuber \n",
    "*(Learning Precise Timing with LSTM Recurrent Networks, \n",
    "Journal of Machine Learning Research 3 (2002) 115-143):*\n",
    "\n",
    "In the formulas, $x$ denotes the layer input and \n",
    "$h_{t-1}$ the recurrent connections; i.e. the hidden state of\n",
    "the last step.   \n",
    "$g$ denotes any of the gate openings $g_i, g_o, g_f$.\n",
    "\n",
    "#### Input, output and forget gates:\n",
    "In addtion to the vanilla LSTM gate function, the current cell state $c_{t-1}$,\n",
    "multiplied with a trainable weight $c_g$, is taken into account here\n",
    "(for a single unit, $c_g$ and $c$ are scalars; to calculate gates for \n",
    "a complete layer, the respective vectors has the length of the number of units\n",
    "and must be multiplicated element-wise, denoted as $\\odot$):\n",
    "\n",
    "$$ g_{g\\in(i,o,f)} = \\sigma(W_g \\cdot [h_{t-1}, x_t] + b_g + c_{g} \\odot c_{t-1})$$\n",
    "\n",
    "#### Cell state:\n",
    "The cell state is updated the same way as in normal LSTM units, by a \n",
    "*tanh*-activated layer weighted by the input gate plus the forget gate \n",
    "influence:\n",
    "\n",
    "$$ c_t = g_{forget} \\odot c_{t-1} + g_{input} \\odot \\tanh(W_i \\cdot [h_{t-1}, x_t] + b_i) $$ \n",
    "\n",
    "#### Hidden state (output):\n",
    "The next hidden state is calculated by multiplying *tanh* of the cell state \n",
    "with the output gate:\n",
    "\n",
    "$$ h_t = \\tanh(c_t) \\odot g_o $$\n",
    "\n",
    "The following implementation is not optimised for performance but it \n",
    "follows strictly these formulas for clearness:"
   ]
  },
  {
   "cell_type": "code",
   "execution_count": 11,
   "id": "00d2a008",
   "metadata": {},
   "outputs": [],
   "source": [
    "mutable struct Peep <: RecurrentUnit\n",
    "    w; w_r; b            # input\n",
    "    w_i; w_ir; c_i; b_i  # input gate\n",
    "    w_o; w_or; c_o; b_o  # output gate\n",
    "    w_f; w_fr; c_f; b_f  # forget gate\n",
    "    c                    # cell state\n",
    "    h                    # last hidden state\n",
    "\n",
    "    function Peep(i, n; o...)   # i: fan-in, n: num cells\n",
    "        w = param(n, i);    w_r = param(n, n); b = param0(n)\n",
    "        w_i = param(n, i); w_ir = param(n, n); c_i = param0(n); b_i = param0(n)\n",
    "        w_o = param(n, i); w_or = param(n, n); c_o = param0(n); b_o = param0(n)\n",
    "        w_f = param(n, i); w_fr = param(n, n); c_f = param0(n); b_f = param(n, init=ones)\n",
    "        c = init0(n)\n",
    "        h = init0(n)\n",
    "\n",
    "        new(w, w_r, b, \n",
    "             w_i, w_ir, c_i, b_i, \n",
    "             w_o, w_or, c_o, b_o, \n",
    "             w_f, w_fr, c_f, b_f, \n",
    "             c, h)\n",
    "    end\n",
    "end"
   ]
  },
  {
   "cell_type": "code",
   "execution_count": 12,
   "id": "b9f3cfaa",
   "metadata": {},
   "outputs": [],
   "source": [
    "function (l::Peep)(x)\n",
    "    \n",
    "    # gates:\n",
    "    #\n",
    "    i_gate = sigm.(l.w_i * x .+ l.w_ir * l.h .+ l.c_i .* l.c .* l.b_i)\n",
    "    o_gate = sigm.(l.w_o * x .+ l.w_or * l.h .+ l.c_o .* l.c .* l.b_o)\n",
    "    f_gate = sigm.(l.w_f * x .+ l.w_fr * l.h .+ l.c_f .* l.c .* l.b_f)\n",
    "    \n",
    "    # cell state:\n",
    "    #\n",
    "    c_temp = tanh.(l.w * x .+ l.w_r * l.h .+ l.b)     \n",
    "    l.c = c_temp .* i_gate .+ l.c .* f_gate\n",
    "    \n",
    "    # hidden state (output):\n",
    "    #\n",
    "    l.h = tanh.(l.c) .* o_gate\n",
    "    return l.h\n",
    "end"
   ]
  },
  {
   "cell_type": "markdown",
   "id": "b452567d",
   "metadata": {},
   "source": [
    "## The model:\n",
    "\n",
    "The ECG annotator model is defined as a RNN sequence tagger of one bidirectional layer\n",
    "of the self-defined peephole LSTM units and a fully connected layer to predict\n",
    "the state for each time step (beat or no beat).\n",
    "\n",
    "The square loss is modified to increase the weight of false negative predictions,\n",
    "because the training data includes much more non-beats as beats.\n",
    "\n",
    "A thin network of only 8 peephole-LSTM units might be already able to solve the problem:"
   ]
  },
  {
   "cell_type": "code",
   "execution_count": 13,
   "id": "fe87d8fa",
   "metadata": {},
   "outputs": [],
   "source": [
    "mutable struct BeatFinder <: DNN\n",
    "    rlayer    # recurrent layer\n",
    "    predict   # dense layer to generate 1/0 prediction\n",
    "    n_units\n",
    "    \n",
    "    function BeatFinder(inputs, n_units)\n",
    "        return new(Recurrent(inputs, n_units, u_type=Peep, bidirectional=true),\n",
    "                   Linear(2*n_units, 1),\n",
    "                   n_units)\n",
    "    end\n",
    "end"
   ]
  },
  {
   "cell_type": "code",
   "execution_count": 14,
   "id": "2a5f937b",
   "metadata": {},
   "outputs": [],
   "source": [
    "function (bf::BeatFinder)(x)\n",
    "    x = bf.rlayer(x, return_all=true, h=0, c=0)\n",
    "    x = bf.predict(x)\n",
    "    x = reshape(x, size(x, 2),:)\n",
    "    return x\n",
    "end\n",
    "\n",
    "function (bf::BeatFinder)(x,y)\n",
    "    p = bf(x)\n",
    "    weights = y .+ 1\n",
    "    loss = mean(abs2, (p .- y) .* weights) # increase weight of peaks!\n",
    "    return loss\n",
    "end"
   ]
  },
  {
   "cell_type": "code",
   "execution_count": 15,
   "id": "6554ada0",
   "metadata": {},
   "outputs": [],
   "source": [
    "bf = BeatFinder(2, 8);"
   ]
  },
  {
   "cell_type": "code",
   "execution_count": 16,
   "id": "9c481285",
   "metadata": {
    "scrolled": true
   },
   "outputs": [
    {
     "name": "stdout",
     "output_type": "stream",
     "text": [
      "NNHelferlein neural network summary:\n",
      "BeatFinder,                                                        769 params\n",
      "Details:\n",
      " \n",
      "    Bidirectional Recurrent layer, 2 → 8 of type Peep,             752 params\n",
      "    Linear layer 16 → 1, with identity,                             17 params\n",
      " \n",
      "Total number of layers: 2\n",
      "Total number of parameters: 769\n"
     ]
    },
    {
     "data": {
      "text/plain": [
       "2"
      ]
     },
     "execution_count": 16,
     "metadata": {},
     "output_type": "execute_result"
    }
   ],
   "source": [
    "print_network(bf)"
   ]
  },
  {
   "cell_type": "markdown",
   "id": "059844f7",
   "metadata": {},
   "source": [
    "# Training\n",
    "\n",
    "As we have almost half a million windows in the training set, only one epoch is trained\n",
    "after splitting 10% of the data for validation.    \n",
    "Of course, LSTMs are slow - one epoch needs about 15 minutes (accuracy calculation for the \n",
    "full dataset takes almost the same time again):"
   ]
  },
  {
   "cell_type": "code",
   "execution_count": 17,
   "id": "fbed7ab3",
   "metadata": {
    "scrolled": false
   },
   "outputs": [
    {
     "name": "stdout",
     "output_type": "stream",
     "text": [
      "Splitting dataset for training (90%) and validation (10%).\n",
      "Training 1 epochs with 650 minibatches/epoch and 72 validation mbs.\n",
      "Evaluation is performed every 325 minibatches with 15 mbs.\n",
      "Watch the progress with TensorBoard at:\n",
      "/data/aNN/Helferlein/logs/Beat-finder-8/2022-03-04T09-51-20\n"
     ]
    },
    {
     "name": "stderr",
     "output_type": "stream",
     "text": [
      "\u001b[32mProgress: 100%|█████████████████████████████████████████| Time: 0:12:38\u001b[39m\n"
     ]
    },
    {
     "name": "stdout",
     "output_type": "stream",
     "text": [
      "Training finished with:\n",
      "Training loss:       0.014795012999899113\n",
      "Training accuracy:   0.9870776848011605\n",
      "Validation loss:     0.014813743389418555\n",
      "Validation accuracy: 0.9869685808468984\n"
     ]
    }
   ],
   "source": [
    "bf = tb_train!(bf, Adam, dtrn, epochs=1, split=0.9, eval_freq=2, \n",
    "               acc_fun=peak_finder_acc, tb_name=\"$NAME\");"
   ]
  },
  {
   "cell_type": "markdown",
   "id": "202f8de1",
   "metadata": {},
   "source": [
    "# Validation\n",
    "\n",
    "The quite narrow rnn reliably detects heartbeats in ECGs of reasonably good quality with F1-Score \n",
    "between 98% and 99% for training and validation data.\n",
    "Errors only occur when the series is disturbed or at the very edge of windows.\n",
    "\n",
    "Visual validation is possible with the `plot_test()` function, which \n",
    "plots a window of an ECG dataset together with the true heart beats (in *red*) and\n",
    "the predictions (in *green*)."
   ]
  },
  {
   "cell_type": "code",
   "execution_count": 18,
   "id": "df5572a8",
   "metadata": {},
   "outputs": [
    {
     "data": {
      "text/plain": [
       "window_split (generic function with 1 method)"
      ]
     },
     "execution_count": 18,
     "metadata": {},
     "output_type": "execute_result"
    }
   ],
   "source": [
    "function window_split(df; win=200)\n",
    "    x = []\n",
    "    y = []\n",
    "    i = 1\n",
    "    while i <= nrow(df) - win+1\n",
    "        wrange = i:i+win-1\n",
    "        push!(x, permutedims(Array(df[wrange,[:cha1, :cha2]]), (2,1)))\n",
    "        push!(y, Array(df[wrange,:beat]))\n",
    "        i += win\n",
    "    end\n",
    "        \n",
    "    return (x, y)\n",
    "end"
   ]
  },
  {
   "cell_type": "code",
   "execution_count": 19,
   "id": "b05f37ad",
   "metadata": {},
   "outputs": [
    {
     "data": {
      "text/plain": [
       "plot_test (generic function with 1 method)"
      ]
     },
     "execution_count": 19,
     "metadata": {},
     "output_type": "execute_result"
    }
   ],
   "source": [
    "function plot_test(ecg; sec=0.0, steps=2000, win=200)\n",
    "    i_start = Int(ceil(sec * 128)) + 1\n",
    "    i_end = i_start + 129*200\n",
    "    x,y = window_split(ecg[i_start:i_end,:], win=win)\n",
    "    dtst = sequence_minibatch(x,y, 128, seq2seq=false, shuffle=false, partial=false)\n",
    "    x,y = first(dtst)\n",
    "    p = reshape(bf(x), :,1)[1:steps]\n",
    "\n",
    "    df = ecg[i_start:i_start+steps-1,:]\n",
    "    plotWindow(df.time, df.cha1, df.cha2, df.beat, p)\n",
    "    peak_finder_acc(p, df.beat, verbose=3)\n",
    "end"
   ]
  },
  {
   "cell_type": "code",
   "execution_count": null,
   "id": "a9239022",
   "metadata": {
    "scrolled": true
   },
   "outputs": [],
   "source": [
    "plot_test(nsr[16], sec=20000)"
   ]
  },
  {
   "cell_type": "markdown",
   "id": "da131116",
   "metadata": {},
   "source": [
    "<img src=\"assets/62-vali-16.png\">"
   ]
  },
  {
   "cell_type": "code",
   "execution_count": null,
   "id": "4480d3c2",
   "metadata": {
    "scrolled": true
   },
   "outputs": [],
   "source": [
    "plot_test(nsr[18], sec=10)"
   ]
  },
  {
   "cell_type": "markdown",
   "id": "01d85d67",
   "metadata": {},
   "source": [
    "<img src=\"assets/62-vali-18.png\">"
   ]
  }
 ],
 "metadata": {
  "kernelspec": {
   "display_name": "Julia (8 threads) 1.7.0",
   "language": "julia",
   "name": "julia-(8-threads)-1.7"
  },
  "language_info": {
   "file_extension": ".jl",
   "mimetype": "application/julia",
   "name": "julia",
   "version": "1.7.0"
  }
 },
 "nbformat": 4,
 "nbformat_minor": 5
}
