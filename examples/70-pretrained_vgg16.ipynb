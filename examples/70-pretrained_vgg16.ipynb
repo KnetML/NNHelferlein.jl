{
 "cells": [
  {
   "cell_type": "markdown",
   "metadata": {},
   "source": [
    "# Use a tensorflow pretrained model\n",
    "\n",
    "The example uses a pretrained Tensorflow model to perform\n",
    "an imagenet classification task."
   ]
  },
  {
   "cell_type": "code",
   "execution_count": 1,
   "metadata": {},
   "outputs": [
    {
     "ename": "LoadError",
     "evalue": "InitError: StackOverflowError:\nduring initialization of module Knet",
     "output_type": "error",
     "traceback": [
      "InitError: StackOverflowError:\nduring initialization of module Knet",
      "",
      "Stacktrace:",
      "     [1] macro expansion",
      "       @ ~/.julia/packages/CUDA/DfvRa/lib/cudadrv/libcuda.jl:84 [inlined]",
      "     [2] macro expansion",
      "       @ ~/.julia/packages/CUDA/DfvRa/lib/cudadrv/error.jl:95 [inlined]",
      "     [3] cuDevicePrimaryCtxRetain",
      "       @ ~/.julia/packages/CUDA/DfvRa/lib/utils/call.jl:26 [inlined]",
      "     [4] CuContext",
      "       @ ~/.julia/packages/CUDA/DfvRa/lib/cudadrv/context.jl:57 [inlined]",
      "     [5] context(dev::CUDA.CuDevice)",
      "       @ CUDA ~/.julia/packages/CUDA/DfvRa/lib/cudadrv/state.jl:222",
      "     [6] TaskLocalState (repeats 2 times)",
      "       @ ~/.julia/packages/CUDA/DfvRa/lib/cudadrv/state.jl:50 [inlined]",
      "     [7] task_local_state!()",
      "       @ CUDA ~/.julia/packages/CUDA/DfvRa/lib/cudadrv/state.jl:73",
      "     [8] prepare_cuda_state",
      "       @ ~/.julia/packages/CUDA/DfvRa/lib/cudadrv/state.jl:88 [inlined]",
      "     [9] initialize_context",
      "       @ ~/.julia/packages/CUDA/DfvRa/lib/cudadrv/error.jl:80 [inlined]",
      "    [10] macro expansion",
      "       @ ~/.julia/packages/CUDA/DfvRa/lib/cudadrv/libcuda.jl:344 [inlined]",
      "    [11] macro expansion",
      "       @ ~/.julia/packages/CUDA/DfvRa/lib/cudadrv/error.jl:95 [inlined]",
      "    [12] cuMemGetInfo_v2(free::Base.RefValue{UInt64}, total::Base.RefValue{UInt64})",
      "       @ CUDA ~/.julia/packages/CUDA/DfvRa/lib/utils/call.jl:26",
      "    [13] info",
      "       @ ~/.julia/packages/CUDA/DfvRa/lib/cudadrv/memory.jl:754 [inlined]",
      "    [14] CUDA.MemoryInfo()",
      "       @ CUDA ~/.julia/packages/CUDA/DfvRa/src/pool.jl:154",
      "    [15] OutOfGPUMemoryError (repeats 2 times)",
      "       @ ~/.julia/packages/CUDA/DfvRa/src/pool.jl:207 [inlined]",
      "    [16] throw_api_error(res::CUDA.cudaError_enum)",
      "       @ CUDA ~/.julia/packages/CUDA/DfvRa/lib/cudadrv/error.jl:87",
      "    [17] macro expansion",
      "       @ ~/.julia/packages/CUDA/DfvRa/lib/cudadrv/error.jl:97 [inlined]",
      "--- the last 15 lines are repeated 2179 more times ---",
      " [32703] cuDevicePrimaryCtxRetain",
      "       @ ~/.julia/packages/CUDA/DfvRa/lib/utils/call.jl:26 [inlined]",
      " [32704] CuContext",
      "       @ ~/.julia/packages/CUDA/DfvRa/lib/cudadrv/context.jl:57 [inlined]",
      " [32705] context(dev::CUDA.CuDevice)",
      "       @ CUDA ~/.julia/packages/CUDA/DfvRa/lib/cudadrv/state.jl:222",
      " [32706] device!",
      "       @ ~/.julia/packages/CUDA/DfvRa/lib/cudadrv/state.jl:256 [inlined]",
      " [32707] device!",
      "       @ ~/.julia/packages/CUDA/DfvRa/lib/cudadrv/state.jl:244 [inlined]",
      " [32708] __init__()",
      "       @ Knet ~/.julia/packages/Knet/YIFWC/src/Knet.jl:39",
      " [32709] _include_from_serialized(path::String, depmods::Vector{Any})",
      "       @ Base ./loading.jl:768",
      " [32710] _require_search_from_serialized(pkg::Base.PkgId, sourcepath::String)",
      "       @ Base ./loading.jl:854",
      " [32711] _require(pkg::Base.PkgId)",
      "       @ Base ./loading.jl:1097",
      " [32712] require(uuidkey::Base.PkgId)",
      "       @ Base ./loading.jl:1013",
      " [32713] require(into::Module, mod::Symbol)",
      "       @ Base ./loading.jl:997",
      " [32714] eval",
      "       @ ./boot.jl:373 [inlined]"
     ]
    }
   ],
   "source": [
    "using Knet\n",
    "using Images, Colors\n",
    "using NNHelferlein\n",
    "using Augmentor"
   ]
  },
  {
   "cell_type": "markdown",
   "metadata": {},
   "source": [
    "### Get VGG net:"
   ]
  },
  {
   "cell_type": "code",
   "execution_count": 2,
   "metadata": {},
   "outputs": [
    {
     "ename": "LoadError",
     "evalue": "UndefVarError: get_vgg16 not defined",
     "output_type": "error",
     "traceback": [
      "UndefVarError: get_vgg16 not defined",
      "",
      "Stacktrace:",
      " [1] top-level scope",
      "   @ In[2]:1",
      " [2] eval",
      "   @ ./boot.jl:373 [inlined]",
      " [3] include_string(mapexpr::typeof(REPL.softscope), mod::Module, code::String, filename::String)",
      "   @ Base ./loading.jl:1196"
     ]
    }
   ],
   "source": [
    "vgg = get_vgg16(trainable=true);"
   ]
  },
  {
   "cell_type": "markdown",
   "metadata": {},
   "source": [
    "# Predict images:"
   ]
  },
  {
   "cell_type": "code",
   "execution_count": 3,
   "metadata": {
    "scrolled": true
   },
   "outputs": [
    {
     "ename": "LoadError",
     "evalue": "UndefVarError: NNHelferlein not defined",
     "output_type": "error",
     "traceback": [
      "UndefVarError: NNHelferlein not defined",
      "",
      "Stacktrace:",
      " [1] (::var\"#1#2\")(name::String)",
      "   @ Main ./none:0",
      " [2] iterate",
      "   @ ./generator.jl:47 [inlined]",
      " [3] collect(itr::Base.Generator{Tuple{String, String, String}, var\"#1#2\"})",
      "   @ Base ./array.jl:724",
      " [4] top-level scope",
      "   @ In[3]:1",
      " [5] eval",
      "   @ ./boot.jl:373 [inlined]",
      " [6] include_string(mapexpr::typeof(REPL.softscope), mod::Module, code::String, filename::String)",
      "   @ Base ./loading.jl:1196"
     ]
    }
   ],
   "source": [
    "[load(joinpath(NNHelferlein.DATA_DIR, \"elecat\", \"$name.jpg\")) for name in \n",
    "            (\"elephant\", \"cat\", \"plane\")]"
   ]
  },
  {
   "cell_type": "code",
   "execution_count": 4,
   "metadata": {},
   "outputs": [
    {
     "ename": "LoadError",
     "evalue": "UndefVarError: NNHelferlein not defined",
     "output_type": "error",
     "traceback": [
      "UndefVarError: NNHelferlein not defined",
      "",
      "Stacktrace:",
      " [1] top-level scope",
      "   @ In[4]:1",
      " [2] eval",
      "   @ ./boot.jl:373 [inlined]",
      " [3] include_string(mapexpr::typeof(REPL.softscope), mod::Module, code::String, filename::String)",
      "   @ Base ./loading.jl:1196"
     ]
    }
   ],
   "source": [
    "img_path = joinpath(NNHelferlein.DATA_DIR, \"elecat\")\n",
    "\n",
    "pipl = CropRatio(ratio=1.0) |> Resize(224,224)\n",
    "\n",
    "imb = mk_image_minibatch(img_path, 2, train=false, \n",
    "        aug_pipl=pipl, pre_proc=preproc_imagenet,\n",
    "        shuffle=false)"
   ]
  },
  {
   "cell_type": "markdown",
   "metadata": {},
   "source": [
    "Use predict from NNHelferlein-Package:   \n",
    "(ImageNet class-numbers differs by 1, because they are 0..999)"
   ]
  },
  {
   "cell_type": "code",
   "execution_count": 8,
   "metadata": {
    "scrolled": true
   },
   "outputs": [
    {
     "ename": "LoadError",
     "evalue": "UndefVarError: imb not defined",
     "output_type": "error",
     "traceback": [
      "UndefVarError: imb not defined",
      "",
      "Stacktrace:",
      " [1] top-level scope",
      "   @ In[8]:1",
      " [2] eval",
      "   @ ./boot.jl:373 [inlined]",
      " [3] include_string(mapexpr::typeof(REPL.softscope), mod::Module, code::String, filename::String)",
      "   @ Base ./loading.jl:1196"
     ]
    }
   ],
   "source": [
    "y = predict_imagenet(vgg, data=imb);"
   ]
  }
 ],
 "metadata": {
  "@webio": {
   "lastCommId": null,
   "lastKernelId": null
  },
  "kernelspec": {
   "display_name": "Julia 1.7.3",
   "language": "julia",
   "name": "julia-1.7"
  },
  "language_info": {
   "file_extension": ".jl",
   "mimetype": "application/julia",
   "name": "julia",
   "version": "1.7.3"
  }
 },
 "nbformat": 4,
 "nbformat_minor": 2
}
