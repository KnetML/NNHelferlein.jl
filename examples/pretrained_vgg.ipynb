{
 "cells": [
  {
   "cell_type": "markdown",
   "metadata": {},
   "source": [
    "# Use a pretrained model from from Keras\n",
    "Import weight matrices from HDF5-files exported from Keras/Tensorflow"
   ]
  },
  {
   "cell_type": "markdown",
   "metadata": {},
   "source": [
    "### Keras/Tensorflow side:\n",
    "\n",
    "```Python\n",
    "from tensorflow.keras.applications.vgg16 import VGG16\n",
    "from tensorflow import keras\n",
    "\n",
    "mdl = VGG16(weights=\"imagenet\")\n",
    "mdl.save_weights(\"vgg16keras.h5\", save_format=\"h5\")\n",
    "```\n",
    "\n",
    "... that's it."
   ]
  },
  {
   "cell_type": "code",
   "execution_count": null,
   "metadata": {},
   "outputs": [],
   "source": [
    "using HDF5\n",
    "using Knet, CUDA\n",
    "using Images, Colors\n",
    "using NNHelferlein\n",
    "using Augmentor"
   ]
  },
  {
   "cell_type": "code",
   "execution_count": null,
   "metadata": {},
   "outputs": [],
   "source": [
    "model_file = \"vgg16keras.h5\""
   ]
  },
  {
   "cell_type": "code",
   "execution_count": null,
   "metadata": {
    "scrolled": true
   },
   "outputs": [],
   "source": [
    "h5 = h5open(model_file)"
   ]
  },
  {
   "cell_type": "code",
   "execution_count": null,
   "metadata": {},
   "outputs": [],
   "source": [
    "read(h5, \"fc1/fc1/kernel:0\")"
   ]
  },
  {
   "cell_type": "markdown",
   "metadata": {},
   "source": [
    "### Build VGG net:"
   ]
  },
  {
   "cell_type": "code",
   "execution_count": null,
   "metadata": {},
   "outputs": [],
   "source": [
    "h = h5\n",
    "vgg = Classifier(\n",
    "            Conv(h, \"block1_conv1\"),\n",
    "            Conv(h, \"block1_conv2\"),\n",
    "            Pool(2,2),\n",
    "            Conv(h, \"block2_conv1\"),\n",
    "            Conv(h, \"block2_conv2\"),\n",
    "            Pool(2,2),\n",
    "            Conv(h, \"block3_conv1\"),\n",
    "            Conv(h, \"block3_conv2\"),\n",
    "            Conv(h, \"block3_conv3\"),\n",
    "            Pool(2,2),\n",
    "            Conv(h, \"block4_conv1\"),\n",
    "            Conv(h, \"block4_conv2\"),\n",
    "            Conv(h, \"block4_conv3\"),\n",
    "            Pool(2,2),\n",
    "            Conv(h, \"block5_conv1\"),\n",
    "            Conv(h, \"block5_conv2\"),\n",
    "            Conv(h, \"block5_conv3\"),\n",
    "            Pool(2,2),\n",
    "            PyFlat(python=true),\n",
    "            Dense(h, \"fc1\", actf=relu),\n",
    "            Dense(h, \"fc2\", actf=relu),\n",
    "            Predictions(h, \"predictions\"))"
   ]
  },
  {
   "cell_type": "markdown",
   "metadata": {},
   "source": [
    "# Predict images:"
   ]
  },
  {
   "cell_type": "code",
   "execution_count": null,
   "metadata": {
    "scrolled": true
   },
   "outputs": [],
   "source": [
    "imgs = mk_image_minibatch(\"../data/elecat_224\", 16, train=false, pre_proc=preproc_imagenet)"
   ]
  },
  {
   "cell_type": "code",
   "execution_count": null,
   "metadata": {},
   "outputs": [],
   "source": [
    "pipl = CropRatio(ratio=1.0) |> Resize(224,224)\n",
    "imgs2 = mk_image_minibatch(\"../data/elecat\", 16, train=false, aug_pipl=pipl, pre_proc=preproc_imagenet)"
   ]
  },
  {
   "cell_type": "code",
   "execution_count": null,
   "metadata": {},
   "outputs": [],
   "source": [
    "first(imgs2)"
   ]
  },
  {
   "cell_type": "code",
   "execution_count": null,
   "metadata": {},
   "outputs": [],
   "source": [
    "vgg(x)"
   ]
  },
  {
   "cell_type": "code",
   "execution_count": null,
   "metadata": {},
   "outputs": [],
   "source": [
    "y = predict_imagenet(vgg, imgs2)"
   ]
  }
 ],
 "metadata": {
  "@webio": {
   "lastCommId": null,
   "lastKernelId": null
  },
  "kernelspec": {
   "display_name": "Julia 1.5.2",
   "language": "julia",
   "name": "julia-1.5"
  },
  "language_info": {
   "file_extension": ".jl",
   "mimetype": "application/julia",
   "name": "julia",
   "version": "1.5.2"
  }
 },
 "nbformat": 4,
 "nbformat_minor": 2
}
