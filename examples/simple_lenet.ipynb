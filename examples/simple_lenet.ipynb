{
 "cells": [
  {
   "cell_type": "markdown",
   "metadata": {},
   "source": [
    "# Simple LeNet for MNIST classification"
   ]
  },
  {
   "cell_type": "code",
   "execution_count": 1,
   "metadata": {},
   "outputs": [],
   "source": [
    "using Knet\n",
    "using NNHelferlein\n",
    "using MLDatasets: MNIST"
   ]
  },
  {
   "cell_type": "markdown",
   "metadata": {},
   "source": [
    "### Get MNIST data:"
   ]
  },
  {
   "cell_type": "code",
   "execution_count": 2,
   "metadata": {},
   "outputs": [],
   "source": [
    "xtrn,ytrn = MNIST.traindata(Float32)\n",
    "ytrn[ytrn.==0] .= 10\n",
    "dtrn = minibatch(xtrn, ytrn, 100; xsize = (28,28,1,:))\n",
    "\n",
    "xvld,yvld = MNIST.testdata(Float32)\n",
    "yvld[yvld.==0] .= 10\n",
    "dvld = minibatch(xvld, yvld, 100; xsize = (28,28,1,:));"
   ]
  },
  {
   "cell_type": "markdown",
   "metadata": {},
   "source": [
    "### Define LeNet with NNHelferlein types:\n",
    "(Knet style)"
   ]
  },
  {
   "cell_type": "code",
   "execution_count": 2,
   "metadata": {},
   "outputs": [
    {
     "data": {
      "text/plain": [
       "Classifier((Conv(P(Array{Float32,4}(5,5,1,20)), P(Array{Float32,4}(1,1,20,1)), (0, 0), Knet.Ops20.relu), Pool((2, 2)), Conv(P(Array{Float32,4}(5,5,20,50)), P(Array{Float32,4}(1,1,50,1)), (0, 0), Knet.Ops20.relu), Pool((2, 2)), Flat(), Dense(P(Array{Float32,2}(512,800)), P(Array{Float32,1}(512)), Knet.Ops20.sigm), Dense(P(Array{Float32,2}(10,512)), P(Array{Float32,1}(10)), identity)))"
      ]
     },
     "execution_count": 2,
     "metadata": {},
     "output_type": "execute_result"
    }
   ],
   "source": [
    "lenet = Classifier(Conv(5,5,1,20), \n",
    "                Pool(2,2),\n",
    "                Conv(5,5,20,50),\n",
    "                Pool(2,2),\n",
    "                Flat(),\n",
    "                Dense(800,512), \n",
    "                Predictions(512,10)\n",
    "        )"
   ]
  },
  {
   "cell_type": "markdown",
   "metadata": {},
   "source": [
    "### Train with TensorBoard log:"
   ]
  },
  {
   "cell_type": "code",
   "execution_count": 9,
   "metadata": {
    "scrolled": true
   },
   "outputs": [
    {
     "name": "stdout",
     "output_type": "stream",
     "text": [
      "Training 5 epochs with 600 minibatches/epoch (and 100 validation mbs).\n",
      "Evaluation is performed every 120 minibatches (with 25 mbs).\n"
     ]
    },
    {
     "name": "stderr",
     "output_type": "stream",
     "text": [
      "\u001b[32mProgress: 100%|█████████████████████████████████████████| Time: 0:10:07\u001b[39m\n"
     ]
    },
    {
     "data": {
      "text/plain": [
       "Classifier((Conv(P(Array{Float32,4}(5,5,1,20)), P(Array{Float32,4}(1,1,20,1)), 0, Knet.Ops20.relu), Pool((2, 2)), Conv(P(Array{Float32,4}(5,5,20,50)), P(Array{Float32,4}(1,1,50,1)), 0, Knet.Ops20.relu), Pool((2, 2)), Flat(), Dense(P(Array{Float32,2}(512,800)), P(Array{Float32,1}(512)), Knet.Ops20.sigm), Dense(P(Array{Float32,2}(10,512)), P(Array{Float32,1}(10)), identity)))"
      ]
     },
     "execution_count": 9,
     "metadata": {},
     "output_type": "execute_result"
    }
   ],
   "source": [
    "tb_train!(lenet, adam, dtrn, vld=dvld, epochs=5,\n",
    "        eval_size=0.25, eval_freq=5, mb_loss_freq=100, \n",
    "        tb_name=\"example_run\", tb_text=\"NNHelferlein example\")"
   ]
  }
 ],
 "metadata": {
  "@webio": {
   "lastCommId": null,
   "lastKernelId": null
  },
  "kernelspec": {
   "display_name": "Julia 1.5.2",
   "language": "julia",
   "name": "julia-1.5"
  },
  "language_info": {
   "file_extension": ".jl",
   "mimetype": "application/julia",
   "name": "julia",
   "version": "1.5.2"
  }
 },
 "nbformat": 4,
 "nbformat_minor": 2
}
