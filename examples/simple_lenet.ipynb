{
 "cells": [
  {
   "cell_type": "markdown",
   "metadata": {},
   "source": [
    "# Simple LeNet for MNIST classification"
   ]
  },
  {
   "cell_type": "code",
   "execution_count": 1,
   "metadata": {},
   "outputs": [
    {
     "name": "stderr",
     "output_type": "stream",
     "text": [
      "┌ Info: Precompiling Knet [1902f260-5fb4-5aff-8c31-6271790ab950]\n",
      "└ @ Base loading.jl:1278\n",
      "┌ Info: Precompiling NNHelferlein [b9e938e5-d80d-48a2-bb0e-6649b4a98aeb]\n",
      "└ @ Base loading.jl:1278\n",
      "┌ Info: Precompiling MLDatasets [eb30cadb-4394-5ae3-aed4-317e484a6458]\n",
      "└ @ Base loading.jl:1278\n"
     ]
    }
   ],
   "source": [
    "using Knet\n",
    "using NNHelferlein\n",
    "using MLDatasets: MNIST"
   ]
  },
  {
   "cell_type": "markdown",
   "metadata": {},
   "source": [
    "### Get MNIST data:"
   ]
  },
  {
   "cell_type": "code",
   "execution_count": 2,
   "metadata": {},
   "outputs": [],
   "source": [
    "xtrn,ytrn = MNIST.traindata(Float32)\n",
    "ytrn[ytrn.==0] .= 10\n",
    "dtrn = minibatch(xtrn, ytrn, 100; xsize = (28,28,1,:))\n",
    "\n",
    "xvld,yvld = MNIST.testdata(Float32)\n",
    "yvld[yvld.==0] .= 10\n",
    "dvld = minibatch(xvld, yvld, 100; xsize = (28,28,1,:));"
   ]
  },
  {
   "cell_type": "markdown",
   "metadata": {},
   "source": [
    "### Define LeNet with NNHelferlein types:\n",
    "(Knet style)"
   ]
  },
  {
   "cell_type": "code",
   "execution_count": 3,
   "metadata": {},
   "outputs": [
    {
     "data": {
      "text/plain": [
       "Classifier((Conv(P(Array{Float32,4}(5,5,1,20)), P(Array{Float32,4}(1,1,20,1)), (0, 0), Knet.Ops20.relu), Pool(Base.Iterators.Pairs{Union{},Union{},Tuple{},NamedTuple{(),Tuple{}}}()), Conv(P(Array{Float32,4}(5,5,20,50)), P(Array{Float32,4}(1,1,50,1)), (0, 0), Knet.Ops20.relu), Pool(Base.Iterators.Pairs{Union{},Union{},Tuple{},NamedTuple{(),Tuple{}}}()), Flat(), Dense(P(Array{Float32,2}(512,800)), P(Array{Float32,1}(512)), Knet.Ops20.sigm), Dense(P(Array{Float32,2}(10,512)), P(Array{Float32,1}(10)), identity)))"
      ]
     },
     "execution_count": 3,
     "metadata": {},
     "output_type": "execute_result"
    }
   ],
   "source": [
    "lenet = Classifier(Conv(5,5,1,20), \n",
    "                Pool(),\n",
    "                Conv(5,5,20,50),\n",
    "                Pool(),\n",
    "                Flat(),\n",
    "                Dense(800,512), \n",
    "                Predictions(512,10)\n",
    "        )"
   ]
  },
  {
   "cell_type": "markdown",
   "metadata": {},
   "source": [
    "### Train with TensorBoard log:"
   ]
  },
  {
   "cell_type": "code",
   "execution_count": 5,
   "metadata": {
    "scrolled": true
   },
   "outputs": [
    {
     "name": "stdout",
     "output_type": "stream",
     "text": [
      "Training 1 epochs with 600 minibatches/epoch\n",
      "    (and 100 validation mbs).\n",
      "Evaluation is performed every 300 minibatches (with 25 mbs).\n",
      "Watch the progress with TensorBoard at: logs/example_run/2021-01-20T18-08-11\n"
     ]
    },
    {
     "name": "stderr",
     "output_type": "stream",
     "text": [
      "\u001b[32mProgress: 100%|█████████████████████████████████████████| Time: 0:02:11\u001b[39m\n"
     ]
    },
    {
     "name": "stdout",
     "output_type": "stream",
     "text": [
      "Training finished with:\n",
      "Training loss:       0.0684726345182086\n",
      "Training accuracy:   0.9784833333333395\n",
      "Validation loss:     0.0632524535007542\n",
      "Validation accuracy: 0.9794999999999997\n"
     ]
    },
    {
     "data": {
      "text/plain": [
       "Classifier((Conv(P(Array{Float32,4}(5,5,1,20)), P(Array{Float32,4}(1,1,20,1)), (0, 0), Knet.Ops20.relu), Pool(Base.Iterators.Pairs{Union{},Union{},Tuple{},NamedTuple{(),Tuple{}}}()), Conv(P(Array{Float32,4}(5,5,20,50)), P(Array{Float32,4}(1,1,50,1)), (0, 0), Knet.Ops20.relu), Pool(Base.Iterators.Pairs{Union{},Union{},Tuple{},NamedTuple{(),Tuple{}}}()), Flat(), Dense(P(Array{Float32,2}(512,800)), P(Array{Float32,1}(512)), Knet.Ops20.sigm), Dense(P(Array{Float32,2}(10,512)), P(Array{Float32,1}(10)), identity)))"
      ]
     },
     "execution_count": 5,
     "metadata": {},
     "output_type": "execute_result"
    }
   ],
   "source": [
    "tb_train!(lenet, Adam, dtrn, dvld, epochs=1,\n",
    "        acc_fun=accuracy,\n",
    "        eval_size=0.25, eval_freq=2, mb_loss_freq=100, \n",
    "        tb_name=\"example_run\", tb_text=\"NNHelferlein example\")"
   ]
  }
 ],
 "metadata": {
  "@webio": {
   "lastCommId": null,
   "lastKernelId": null
  },
  "kernelspec": {
   "display_name": "Julia 1.5.2",
   "language": "julia",
   "name": "julia-1.5"
  },
  "language_info": {
   "file_extension": ".jl",
   "mimetype": "application/julia",
   "name": "julia",
   "version": "1.5.2"
  }
 },
 "nbformat": 4,
 "nbformat_minor": 2
}
